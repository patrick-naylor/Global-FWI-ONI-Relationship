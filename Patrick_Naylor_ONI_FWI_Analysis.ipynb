{
 "cells": [
  {
   "cell_type": "markdown",
   "metadata": {},
   "source": [
    "# Correlation of Oceanic Nino Index and Fire Weather Index With Emphasis on The Amazon Rainforest Region"
   ]
  },
  {
   "cell_type": "markdown",
   "metadata": {},
   "source": [
    "Because the raw data files contain a lot of unnecessary data, making them large files, and because the initial data processing can take some time I included a NetCDF with the already processed data. All of the code I used is included, but I do not recommend running each section. I recommend beginning at the Establish Correlation section but if you would like to run it all I will include a text file with the file paths to bulk download all of the data."
   ]
  },
  {
   "cell_type": "markdown",
   "metadata": {},
   "source": [
    "### Import modules and load data"
   ]
  },
  {
   "cell_type": "code",
   "execution_count": 2,
   "metadata": {},
   "outputs": [],
   "source": [
    "import netCDF4 as nc\n",
    "from netCDF4 import Dataset\n",
    "import glob\n",
    "import numpy as np\n",
    "import datetime\n",
    "import xarray as xr\n",
    "from matplotlib import pyplot as plt\n",
    "from scipy import stats\n",
    "import math\n",
    "from datetime import date\n",
    "from matplotlib.colors import LinearSegmentedColormap"
   ]
  },
  {
   "cell_type": "code",
   "execution_count": null,
   "metadata": {},
   "outputs": [],
   "source": [
    "#This creates the data paths text file that was submitted\n",
    "#using the the wget command (wget -i nc_file_paths.txt) all the data can be downloaded\n",
    "\n",
    "start_str = 'https://portal.nccs.nasa.gov/datashare/GlobalFWI/v2.0/fwiCalcs.MERRA2/Default/MERRA2/'\n",
    "mid_str = '/FWI.MERRA2.Monthly.Default.'\n",
    "months = [31,28,31,30,31,30,31,31,30,31,30,31]\n",
    "month = ['01', '02', '03', '04', '05', '06', '07', '08', '09', '10', '11', '12']\n",
    "day = ['01', '02', '03', '04', '05', '06', '07', '08', '09', '10', '11', '12', '13', '14', '15', '16', '17', '18', '19', '20', '21', '22', '23', '24', '25', '26', '27', '28', '29', '30', '31']\n",
    "paths_list = []\n",
    "temp_str = 'temp'\n",
    "for i in range(40):\n",
    "    for j in range(12):\n",
    "            temp_str = start_str + str(1981+i) + mid_str + str(1981+i) +month[j]  + '.nc'\n",
    "            paths_list.append(temp_str)\n",
    "#print(paths_list)   \n",
    "with open('nc_file_paths.txt', 'w') as paths:\n",
    "    for listitem in paths_list:\n",
    "        paths.write('%s\\n' % listitem)"
   ]
  },
  {
   "cell_type": "code",
   "execution_count": 16,
   "metadata": {},
   "outputs": [],
   "source": [
    "#Load data from 476 .nc files \n",
    "\n",
    "dt_parse = '%Y%m'\n",
    "def get_date_num(stri):\n",
    "    date1 = datetime.datetime.strptime(stri, dt_parse)\n",
    "    return(date.toordinal(date1.date()))\n",
    "list_of_paths = glob.glob('C:/Users/Patrick/Desktop/175_final/global_fwi_analysis/FWI_nc\\'s/*.nc', recursive=True)\n",
    "nc_list = []\n",
    "nc_date_list = []\n",
    "nc_date_key = []\n",
    "nc_date_int = []\n",
    "for path in list_of_paths:\n",
    "    nc_list.append(nc.Dataset(path))\n",
    "    nc_date_list.append(get_date_num(path[-9:-3]))\n",
    "    nc_date_key.append(int(path[-9:-3]))\n",
    "sample = nc_list[0]"
   ]
  },
  {
   "cell_type": "markdown",
   "metadata": {},
   "source": [
    "### Process data"
   ]
  },
  {
   "cell_type": "code",
   "execution_count": 3,
   "metadata": {},
   "outputs": [
    {
     "name": "stdout",
     "output_type": "stream",
     "text": [
      "476\n"
     ]
    }
   ],
   "source": [
    "normed_date = np.round(np.array(nc_date_list) - np.mean(np.array(nc_date_list)))\n",
    "print(len(normed_date))"
   ]
  },
  {
   "cell_type": "code",
   "execution_count": 4,
   "metadata": {},
   "outputs": [
    {
     "name": "stderr",
     "output_type": "stream",
     "text": [
      "<ipython-input-4-9e0b1f9b52d8>:3: DeprecationWarning: tostring() is deprecated. Use tobytes() instead.\n",
      "  fwi.append(i['MERRA2_FWI'][0])\n",
      "<ipython-input-4-9e0b1f9b52d8>:3: UserWarning: WARNING: missing_value not used since it\n",
      "cannot be safely cast to variable data type\n",
      "  fwi.append(i['MERRA2_FWI'][0])\n"
     ]
    }
   ],
   "source": [
    "#Compile data into one 3D array\n",
    "\n",
    "fwi = []\n",
    "for i in nc_list:\n",
    "    fwi.append(i['MERRA2_FWI'][0])\n",
    "fwi_array = np.dstack(fwi)"
   ]
  },
  {
   "cell_type": "code",
   "execution_count": null,
   "metadata": {},
   "outputs": [],
   "source": [
    "#Computes the Yearly Averages\n",
    "\n",
    "years = list(range(1982, 2020))\n",
    "for i in range(len(years)):\n",
    "    years[i] = str(years[i])\n",
    "#print(years)\n",
    "yearly_list = []\n",
    "\n",
    "for year in years:\n",
    "    temp_array_list = []\n",
    "    for i in range(476):\n",
    "        if(nc_date_key[i][0:4] == year):\n",
    "            temp_array_list.append(fwi_array[:,:,i])\n",
    "    #print(len(temp_array_list))\n",
    "    avg_array = np.empty((267,576))\n",
    "    avg_array[:] = np.nan\n",
    "    for j in range(267):\n",
    "        for k in range(576):\n",
    "            point_list = []\n",
    "            for q in range(len(temp_array_list)):\n",
    "                point_list.append(temp_array_list[q][j,k])\n",
    "            avg_array[j,k] = np.nanmean(np.array(point_list))\n",
    "    yearly_list.append(avg_array)\n",
    "    print(str(100*(int(year) - int(years[0]))/ (int(years[-1])-int(years[0]))) + '%')"
   ]
  },
  {
   "cell_type": "code",
   "execution_count": 6,
   "metadata": {},
   "outputs": [],
   "source": [
    "year_from_start = np.array(list(range(34)))\n",
    "yearly_array = np.dstack(yearly_list)\n",
    "years_int = np.empty([38])\n",
    "for i in range(len(years)):\n",
    "    years_int[i] = int(years[i])\n",
    "normed_year = np.array(years_int)-np.nanmean(np.array(years_int))"
   ]
  },
  {
   "cell_type": "code",
   "execution_count": 7,
   "metadata": {
    "scrolled": true
   },
   "outputs": [
    {
     "name": "stderr",
     "output_type": "stream",
     "text": [
      "<ipython-input-7-a60a50410ec8>:14: RuntimeWarning: Mean of empty slice\n",
      "  if((~np.isnan(np.nanmean(t_fwi_point)))):\n",
      "C:\\Users\\Patrick\\anaconda3\\lib\\site-packages\\scipy\\stats\\_stats_mstats_common.py:130: RuntimeWarning: invalid value encountered in double_scalars\n",
      "  slope = r_num / ssxm\n",
      "C:\\Users\\Patrick\\anaconda3\\lib\\site-packages\\scipy\\stats\\_stats_mstats_common.py:140: RuntimeWarning: invalid value encountered in sqrt\n",
      "  t = r * np.sqrt(df / ((1.0 - r + TINY)*(1.0 + r + TINY)))\n",
      "C:\\Users\\Patrick\\anaconda3\\lib\\site-packages\\scipy\\stats\\_stats_mstats_common.py:142: RuntimeWarning: invalid value encountered in double_scalars\n",
      "  sterrest = np.sqrt((1 - r**2) * ssym / ssxm / df)\n"
     ]
    }
   ],
   "source": [
    "#Generates linear trend and removes the trend from the FWI monthly array\n",
    "\n",
    "t_trend_slope = np.empty([267, 576])\n",
    "t_trend_intercept = np.empty([267, 576])\n",
    "t_trend_rvalue = np.empty([267, 576])\n",
    "t_trend_pvalue = np.empty([267, 576])\n",
    "t_trend_stderr = np.empty([267, 576])\n",
    "\n",
    "t_fwi_point = np.empty([476])\n",
    "for i in range(267):\n",
    "    for j in range(576):\n",
    "        t_fwi_point = fwi_array[i,j,:]\n",
    "        #print(np.nanmean(fwi_point))\n",
    "        if((~np.isnan(np.nanmean(t_fwi_point)))):\n",
    "            #print(np.nanmean(fwi_point))\n",
    "            mask = ~np.isnan(t_fwi_point) & ~np.isnan(normed_date)\n",
    "            t_trend_slope[i,j], t_trend_intercept[i,j], t_trend_rvalue[i,j], t_trend_pvalue[i,j], t_trend_stderr[i,j] = stats.linregress(normed_date[mask], t_fwi_point[mask])\n",
    "        else:\n",
    "            t_trend_slope[i,j] = np.float('NaN')\n",
    "            t_trend_pvalue[i,j] = np.float('NaN')\n",
    "            \n",
    "fwi_detrend = np.empty((267, 576, 476))\n",
    "for i in range(476):\n",
    "    fwi_detrend[:,:,i] = fwi_array[:,:,i] - normed_date[i]*t_trend_slope[:,:]        "
   ]
  },
  {
   "cell_type": "code",
   "execution_count": 8,
   "metadata": {},
   "outputs": [
    {
     "name": "stderr",
     "output_type": "stream",
     "text": [
      "<ipython-input-8-611448ccafc6>:14: RuntimeWarning: Mean of empty slice\n",
      "  if((~np.isnan(np.nanmean(ty_fwi_point)))):\n"
     ]
    }
   ],
   "source": [
    "#Generates linear trend and removes the trend from the FWI yearly array\n",
    "\n",
    "ty_trend_slope = np.empty([267, 576])\n",
    "ty_trend_intercept = np.empty([267, 576])\n",
    "ty_trend_rvalue = np.empty([267, 576])\n",
    "ty_trend_pvalue = np.empty([267, 576])\n",
    "ty_trend_stderr = np.empty([267, 576])\n",
    "\n",
    "ty_fwi_point = np.empty([38])\n",
    "for i in range(267):\n",
    "    for j in range(576):\n",
    "        ty_fwi_point = yearly_array[i,j,:]\n",
    "        #print(np.nanmean(fwi_point))\n",
    "        if((~np.isnan(np.nanmean(ty_fwi_point)))):\n",
    "            #print(np.nanmean(fwi_point))\n",
    "            mask = ~np.isnan(ty_fwi_point) & ~np.isnan(normed_year)\n",
    "            ty_trend_slope[i,j], ty_trend_intercept[i,j], ty_trend_rvalue[i,j], ty_trend_pvalue[i,j], ty_trend_stderr[i,j] = stats.linregress(normed_year[mask], ty_fwi_point[mask])\n",
    "        else:\n",
    "            ty_trend_slope[i,j] = np.float('NaN')\n",
    "            ty_trend_pvalue[i,j] = np.float('NaN')\n",
    "            \n",
    "fwi_y_detrend = np.empty((267, 576, 38))\n",
    "for i in range(38):\n",
    "    fwi_y_detrend[:,:,i] = yearly_array[:,:,i] - normed_year[i]*ty_trend_slope[:,:]        "
   ]
  },
  {
   "cell_type": "code",
   "execution_count": null,
   "metadata": {},
   "outputs": [],
   "source": [
    "#compiles the monthly data into three month averages to match the ONI data\n",
    "\n",
    "def three_month_avg(dataset, index):\n",
    "    temp_array = np.empty([267,576])\n",
    "    for i in range(267):\n",
    "        for j in range(576):\n",
    "            temp_array[i,j] =np.nanmean(np.array([dataset[i,j,index], dataset[i,j,index+1], dataset[i,j,index+2]]))\n",
    "    return(temp_array)\n",
    "three_month_list = []\n",
    "for i in range(476):\n",
    "    three_month_list.append(three_month_avg(fwi_detrend, i))\n",
    "    print(str((i/464)*100)+'%')\n",
    "    \n",
    "three_month_avg = np.dstack(three_month_list)    "
   ]
  },
  {
   "cell_type": "markdown",
   "metadata": {},
   "source": [
    "### Establish Correlation"
   ]
  },
  {
   "cell_type": "code",
   "execution_count": null,
   "metadata": {},
   "outputs": [],
   "source": [
    "import netCDF4 as nc\n",
    "from netCDF4 import Dataset\n",
    "import glob\n",
    "import numpy as np\n",
    "import datetime\n",
    "import xarray as xr\n",
    "from matplotlib import pyplot as plt\n",
    "from scipy import stats\n",
    "import math\n",
    "from datetime import date\n",
    "from matplotlib.colors import LinearSegmentedColormap"
   ]
  },
  {
   "cell_type": "code",
   "execution_count": null,
   "metadata": {},
   "outputs": [],
   "source": [
    "#Loads processed data from NetCDF file. This is where you start if you are using the file I provided\n",
    "\n",
    "data = nc.Dataset('aggregate_data_6.nc')\n",
    "print(data)\n",
    "three_month_avg = data['mFWI']"
   ]
  },
  {
   "cell_type": "code",
   "execution_count": 43,
   "metadata": {},
   "outputs": [],
   "source": [
    "#Removes the seasonal cycle from the detrend monthly data\n",
    "\n",
    "temp_count = 0\n",
    "monthly_list = [[],[],[],[],[],[],[],[],[],[],[],[]]\n",
    "for i in range(474):\n",
    "    monthly_list[temp_count].append(three_month_avg[:,:,i])\n",
    "    temp_count += 1\n",
    "    if(temp_count == 12):\n",
    "        temp_count = 0\n",
    "        \n",
    "avg_list = []\n",
    "for i in range(12):\n",
    "    month_avg_array = np.empty([267,576])\n",
    "    for k in range(267):\n",
    "            for l in range(576):\n",
    "                temp_list = []\n",
    "                for j in range(len(monthly_list[i])):\n",
    "                    temp_list.append(monthly_list[i][j][k,l])\n",
    "                month_avg_array[k,l] = np.nanmean(np.array(temp_list))\n",
    "    avg_list.append(month_avg_array)    \n",
    "    \n",
    "fwi_m_dets = np.empty([267, 576, 474])\n",
    "temp_count = 0\n",
    "for i in range(474):\n",
    "    fwi_m_dets[:,:,i] = three_month_avg[:,:,i]-avg_list[temp_count]\n",
    "    temp_count += 1\n",
    "    if(temp_count == 12):\n",
    "        temp_count = 0    "
   ]
  },
  {
   "cell_type": "code",
   "execution_count": null,
   "metadata": {
    "scrolled": true
   },
   "outputs": [],
   "source": [
    "#Load ONI data\n",
    "\n",
    "oni_raw = np.genfromtxt('oni.csv', delimiter=',')\n",
    "#print(np.shape(oni_raw))\n",
    "oni_list = []\n",
    "for i in range(40):\n",
    "    for j in range(12):\n",
    "        oni_list.append(oni_raw[i,j])\n",
    "ONI = np.array(oni_list[:476])\n",
    "#print(len(ONI))\n",
    "\n",
    "yONI = np.genfromtxt('oni_yearly.csv', delimiter=',')\n",
    "#print(np.shape(oni_raw))\n",
    "\n",
    "print(len(yONI))\n",
    "print(len(ONI))"
   ]
  },
  {
   "cell_type": "code",
   "execution_count": 67,
   "metadata": {
    "scrolled": false
   },
   "outputs": [
    {
     "name": "stderr",
     "output_type": "stream",
     "text": [
      "<ipython-input-67-cd303b285824>:10: RuntimeWarning: Mean of empty slice\n",
      "  if((~np.isnan(np.nanmean(oni_fwi_point)))):\n"
     ]
    }
   ],
   "source": [
    "#Correlate the three month average data with the ONI data\n",
    "\n",
    "m_coeff = np.empty([267, 576])\n",
    "\n",
    "oni_fwi_point = np.empty([474])\n",
    "for i in range(267):\n",
    "    for j in range(576):\n",
    "        oni_fwi_point = fwi_m_dets[i,j,:]\n",
    "        #print(np.nanmean(fwi_point))\n",
    "        if((~np.isnan(np.nanmean(oni_fwi_point)))):\n",
    "            #print(np.nanmean(fwi_point))\n",
    "            mask = ~np.isnan(oni_fwi_point[:]) & ~np.isnan(ONI[1:-1])\n",
    "            m_coeff[i,j] = (np.corrcoef(ONI[1:-1][mask], oni_fwi_point[:][mask]))[0,1]\n",
    "        else:\n",
    "            m_coeff[i,j] = np.float('NaN')"
   ]
  },
  {
   "cell_type": "code",
   "execution_count": 309,
   "metadata": {},
   "outputs": [
    {
     "name": "stderr",
     "output_type": "stream",
     "text": [
      "<ipython-input-309-f7febcfc0bfe>:8: RuntimeWarning: Mean of empty slice\n",
      "  if((~np.isnan(np.nanmean(oni_fwi_point2)))):\n"
     ]
    }
   ],
   "source": [
    "#Correlate yearly data with ONI yearly averages\n",
    "\n",
    "t_coeff = np.empty([267, 576])\n",
    "\n",
    "oni_fwi_point2 = np.empty([38])\n",
    "for i in range(267):\n",
    "    for j in range(576):\n",
    "        oni_fwi_point2 = fwi_y_detrend[i,j,:]\n",
    "        #print(np.nanmean(fwi_point))\n",
    "        if((~np.isnan(np.nanmean(oni_fwi_point2)))):\n",
    "            #print(np.nanmean(fwi_point))\n",
    "            mask = ~np.isnan(oni_fwi_point2) & ~np.isnan(yONI)\n",
    "            t_coeff[i,j] = (np.corrcoef(yONI[mask], oni_fwi_point2[mask]))[0,1]\n",
    "        else:\n",
    "            t_coeff[i,j] = np.float('NaN')"
   ]
  },
  {
   "cell_type": "markdown",
   "metadata": {},
   "source": [
    "### Create Visualizations"
   ]
  },
  {
   "cell_type": "code",
   "execution_count": null,
   "metadata": {
    "scrolled": true
   },
   "outputs": [],
   "source": [
    "#Generates and Saves figures\n",
    "\n",
    "plt.figure(1)\n",
    "colors1 = ['blue', 'lavender','mistyrose', 'red']\n",
    "nodes1 = [0.0, 0.4, 0.6, 1.0]\n",
    "cmap1 = LinearSegmentedColormap.from_list('mycmap', list(zip(nodes1,colors1)))\n",
    "plt.pcolormesh(t_trend_slope*365.25,cmap = cmap1, vmin=-0.4, vmax=0.4)\n",
    "plt.colorbar(label = 'Annual FWI Change')\n",
    "plt.title('Slope of FWI Linear Trend')\n",
    "plt.tick_params(axis='both', which='both', bottom=False, top=False, labelbottom=False, right=False, left=False, labelleft=False)\n",
    "plt.savefig('global_FWI_linear_trend_slope.png')\n",
    "\n",
    "plt.figure(2)\n",
    "colors2 = ['forestgreen', 'honeydew','mistyrose', 'mistyrose']\n",
    "nodes2 = [0.0,11/12, 11/12, 1.0]\n",
    "cmap2 = LinearSegmentedColormap.from_list('mycmap', list(zip(nodes2,colors2)))\n",
    "plt.pcolormesh(t_trend_pvalue, cmap = cmap2, vmin=0, vmax=0.055)\n",
    "plt.colorbar(label = 'P-Value')\n",
    "plt.title('P-Value of FWI Linear Trend')\n",
    "plt.tick_params(axis='both', which='both', bottom=False, top=False, labelbottom=False, right=False, left=False, labelleft=False)\n",
    "plt.savefig('global_FWI_linear_trend_pval')\n",
    "\n",
    "plt.figure(3, figsize = ([4,6]))\n",
    "colors3 = ['blue','cyan', 'lime','honeydew','yellow','red','magenta']\n",
    "nodes3 = [0,.25,.375,.5,.65,.875,1]\n",
    "cmap3 = LinearSegmentedColormap.from_list('mycmap', list(zip(nodes3,colors3)))\n",
    "plt.pcolormesh(m_coeff[0:140,150:240], vmin=-1, vmax=1, cmap = cmap3)\n",
    "plt.colorbar(label = 'Pearson Correlation Coefficient')\n",
    "plt.title('Correlation Between Three Month Running Averages of \\nFWI and ONI')\n",
    "plt.tick_params(axis='both', which='both', bottom=False, top=False, labelbottom=False, right=False, left=False, labelleft=False)\n",
    "plt.savefig('three_month_correlation.png')\n",
    "\n",
    "plt.figure(4, figsize = ([4,6]))\n",
    "plt.pcolormesh(t_coeff[0:140,150:240], vmin=-1, vmax=1, cmap = cmap3)\n",
    "plt.colorbar(label = 'Pearson Correlation Coefficient')\n",
    "plt.title('Correlation Between Yearly Average FWI and ONI')\n",
    "plt.tick_params(axis='both', which='both', bottom=False, top=False, labelbottom=False, right=False, left=False, labelleft=False)\n",
    "plt.savefig('yearly_correlation.png')\n",
    "\n",
    "plt.figure(5, figsize = ([4,6]))\n",
    "colors1 = ['blue', 'lavender','mistyrose', 'red']\n",
    "nodes1 = [0.0, 0.4, 0.6, 1.0]\n",
    "cmap1 = LinearSegmentedColormap.from_list('mycmap', list(zip(nodes1,colors1)))\n",
    "plt.pcolormesh(t_trend_slope[0:140,150:240]*365.25,cmap = cmap1, vmin=-0.4, vmax=0.4)\n",
    "plt.colorbar(label = 'Annual FWI Change')\n",
    "plt.title('Slope of FWI Linear Trend')\n",
    "plt.tick_params(axis='both', which='both', bottom=False, top=False, labelbottom=False, right=False, left=False, labelleft=False)\n",
    "plt.savefig('sa_FWI_linear_trend_slope.png')\n",
    "\n",
    "plt.figure(6, figsize = ([4,6]))\n",
    "colors2 = ['forestgreen', 'honeydew','mistyrose', 'mistyrose']\n",
    "nodes2 = [0.0,11/12, 11/12, 1.0]\n",
    "cmap2 = LinearSegmentedColormap.from_list('mycmap', list(zip(nodes2,colors2)))\n",
    "plt.pcolormesh(t_trend_pvalue[0:140,150:240], cmap = cmap2, vmin=0, vmax=0.055)\n",
    "plt.colorbar(label = 'P-Value')\n",
    "plt.title('P-Value of FWI Linear Trend')\n",
    "plt.tick_params(axis='both', which='both', bottom=False, top=False, labelbottom=False, right=False, left=False, labelleft=False)\n",
    "plt.savefig('sa_FWI_linear_trend_pval.png')"
   ]
  },
  {
   "cell_type": "markdown",
   "metadata": {},
   "source": [
    "### Save Processed Data"
   ]
  },
  {
   "cell_type": "code",
   "execution_count": 24,
   "metadata": {},
   "outputs": [],
   "source": [
    "#Produces the NetCDF file I provided. Do not run this code block\n",
    "\n",
    "nc_date_key = np.array(nc_date_key)\n",
    "ncfile = Dataset('aggregate_data_6.nc', mode = 'w', format = 'NETCDF4_CLASSIC')\n",
    "lat_dim = ncfile.createDimension('lat', 267)\n",
    "lon_dim = ncfile.createDimension('lon', 576)\n",
    "month_dim = ncfile.createDimension('month', 474)\n",
    "year_dim = ncfile.createDimension('year', 38)\n",
    "ncfile.title = 'Aggregated FWI Data'\n",
    "ncfile.subtitle = 'Organized into a running three month average timeseries and a yearly average timeseries. Monthly data has linear trend and seasonal cycle removed.'\n",
    "lat = ncfile.createVariable('lat', np.float32, ('lat',))\n",
    "lat.units = 'degrees_north'\n",
    "lat.long_name = 'latitude'\n",
    "lon = ncfile.createVariable('lon',np.float32, ('lon',))\n",
    "lon.units = 'degrees_east'\n",
    "lon.long_name = 'longitude'\n",
    "month = ncfile.createVariable('month', np.int32, ('month',))\n",
    "month.units = 'yyyymm'\n",
    "month.long_name = 'Month and Year of Monthly Data'\n",
    "year = ncfile.createVariable('year', np.int32, ('year',))\n",
    "month.units = 'yyyy'\n",
    "yFWI = ncfile.createVariable('yFWI', np.float32, ('lat', 'lon', 'year'))\n",
    "yFWI.units = 'Unitless'\n",
    "yFWI.long_name = 'Annual average global fire weather index'\n",
    "mFWI = ncfile.createVariable('mFWI', np.float32, ('lat', 'lon', 'month'))\n",
    "mFWI.units = 'Unitless'\n",
    "mFWI.long_name = '3 month running average global fire weather index'\n",
    "yFWI[:,:,:] = yearly_array[:,:,:]\n",
    "mFWI[:,:,:] = three_month_avg[:,:,:]\n",
    "lat[:] = sample['lat'][:]\n",
    "lon[:] = sample['lon'][:]\n",
    "month[:] = nc_date_key[:-2]\n",
    "year[:] = years_int\n",
    "ncfile.close()"
   ]
  }
 ],
 "metadata": {
  "kernelspec": {
   "display_name": "Python 3",
   "language": "python",
   "name": "python3"
  },
  "language_info": {
   "codemirror_mode": {
    "name": "ipython",
    "version": 3
   },
   "file_extension": ".py",
   "mimetype": "text/x-python",
   "name": "python",
   "nbconvert_exporter": "python",
   "pygments_lexer": "ipython3",
   "version": "3.8.3"
  }
 },
 "nbformat": 4,
 "nbformat_minor": 4
}
