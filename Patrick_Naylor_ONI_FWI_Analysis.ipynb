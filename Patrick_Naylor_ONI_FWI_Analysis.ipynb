{
 "cells": [
  {
   "cell_type": "markdown",
   "metadata": {},
   "source": [
    "# Correlation of Oceanic Nino Index and Fire Weather Index With Emphasis on The Amazon Rainforest Region of South America"
   ]
  },
  {
   "cell_type": "markdown",
   "metadata": {},
   "source": [
    "### Import modules and load data"
   ]
  },
  {
   "cell_type": "code",
   "execution_count": 1,
   "metadata": {},
   "outputs": [],
   "source": [
    "import netCDF4 as nc\n",
    "from netCDF4 import Dataset\n",
    "import glob\n",
    "import numpy as np\n",
    "import datetime\n",
    "import xarray as xr\n",
    "from matplotlib import pyplot as plt\n",
    "from scipy import stats\n",
    "import math\n",
    "from datetime import date\n",
    "from matplotlib.colors import LinearSegmentedColormap"
   ]
  },
  {
   "cell_type": "code",
   "execution_count": null,
   "metadata": {},
   "outputs": [],
   "source": [
    "#This creates the data paths text file that was submitted\n",
    "#using the the wget command (wget -i nc_file_paths.txt) all the data can be downloaded\n",
    "start_str = 'https://portal.nccs.nasa.gov/datashare/GlobalFWI/v2.0/fwiCalcs.MERRA2/Default/MERRA2/'\n",
    "mid_str = '/FWI.MERRA2.Monthly.Default.'\n",
    "months = [31,28,31,30,31,30,31,31,30,31,30,31]\n",
    "month = ['01', '02', '03', '04', '05', '06', '07', '08', '09', '10', '11', '12']\n",
    "day = ['01', '02', '03', '04', '05', '06', '07', '08', '09', '10', '11', '12', '13', '14', '15', '16', '17', '18', '19', '20', '21', '22', '23', '24', '25', '26', '27', '28', '29', '30', '31']\n",
    "paths_list = []\n",
    "temp_str = 'temp'\n",
    "for i in range(40):\n",
    "    for j in range(12):\n",
    "            temp_str = start_str + str(1981+i) + mid_str + str(1981+i) +month[j]  + '.nc'\n",
    "            paths_list.append(temp_str)\n",
    "#print(paths_list)   \n",
    "with open('nc_file_paths.txt', 'w') as paths:\n",
    "    for listitem in paths_list:\n",
    "        paths.write('%s\\n' % listitem)"
   ]
  },
  {
   "cell_type": "code",
   "execution_count": 16,
   "metadata": {},
   "outputs": [],
   "source": [
    "#Load data from 476 .nc files \n",
    "\n",
    "dt_parse = '%Y%m'\n",
    "def get_date_num(stri):\n",
    "    date1 = datetime.datetime.strptime(stri, dt_parse)\n",
    "    return(date.toordinal(date1.date()))\n",
    "list_of_paths = glob.glob('C:/Users/Patrick/Desktop/175_final/global_fwi_analysis/FWI_nc\\'s/*.nc', recursive=True)\n",
    "nc_list = []\n",
    "nc_date_list = []\n",
    "nc_date_key = []\n",
    "nc_date_int = []\n",
    "for path in list_of_paths:\n",
    "    nc_list.append(nc.Dataset(path))\n",
    "    nc_date_list.append(get_date_num(path[-9:-3]))\n",
    "    nc_date_key.append(int(path[-9:-3]))\n",
    "sample = nc_list[0]"
   ]
  },
  {
   "cell_type": "markdown",
   "metadata": {},
   "source": [
    "### Process data"
   ]
  },
  {
   "cell_type": "code",
   "execution_count": 3,
   "metadata": {},
   "outputs": [
    {
     "name": "stdout",
     "output_type": "stream",
     "text": [
      "476\n"
     ]
    }
   ],
   "source": [
    "normed_date = np.round(np.array(nc_date_list) - np.mean(np.array(nc_date_list)))\n",
    "print(len(normed_date))"
   ]
  },
  {
   "cell_type": "code",
   "execution_count": 4,
   "metadata": {},
   "outputs": [
    {
     "name": "stderr",
     "output_type": "stream",
     "text": [
      "<ipython-input-4-9e0b1f9b52d8>:3: DeprecationWarning: tostring() is deprecated. Use tobytes() instead.\n",
      "  fwi.append(i['MERRA2_FWI'][0])\n",
      "<ipython-input-4-9e0b1f9b52d8>:3: UserWarning: WARNING: missing_value not used since it\n",
      "cannot be safely cast to variable data type\n",
      "  fwi.append(i['MERRA2_FWI'][0])\n"
     ]
    }
   ],
   "source": [
    "fwi = []\n",
    "for i in nc_list:\n",
    "    fwi.append(i['MERRA2_FWI'][0])\n",
    "fwi_array = np.dstack(fwi)"
   ]
  },
  {
   "cell_type": "code",
   "execution_count": 5,
   "metadata": {},
   "outputs": [
    {
     "name": "stderr",
     "output_type": "stream",
     "text": [
      "<ipython-input-5-d13599030f6a>:22: RuntimeWarning: Mean of empty slice\n",
      "  avg_array[j,k] = np.nanmean(np.array(point_list))\n"
     ]
    },
    {
     "name": "stdout",
     "output_type": "stream",
     "text": [
      "0.0%\n",
      "2.7027027027027026%\n",
      "5.405405405405405%\n",
      "8.108108108108109%\n",
      "10.81081081081081%\n",
      "13.513513513513514%\n",
      "16.216216216216218%\n",
      "18.91891891891892%\n",
      "21.62162162162162%\n",
      "24.324324324324323%\n",
      "27.027027027027028%\n",
      "29.72972972972973%\n",
      "32.432432432432435%\n",
      "35.13513513513514%\n",
      "37.83783783783784%\n",
      "40.54054054054054%\n",
      "43.24324324324324%\n",
      "45.945945945945944%\n",
      "48.648648648648646%\n",
      "51.351351351351354%\n",
      "54.054054054054056%\n",
      "56.75675675675676%\n",
      "59.45945945945946%\n",
      "62.16216216216216%\n",
      "64.86486486486487%\n",
      "67.56756756756756%\n",
      "70.27027027027027%\n",
      "72.97297297297297%\n",
      "75.67567567567568%\n",
      "78.37837837837837%\n",
      "81.08108108108108%\n",
      "83.78378378378379%\n",
      "86.48648648648648%\n",
      "89.1891891891892%\n",
      "91.89189189189189%\n",
      "94.5945945945946%\n",
      "97.29729729729729%\n",
      "100.0%\n"
     ]
    }
   ],
   "source": [
    "#Computes the Yearly Averages\n",
    "\n",
    "years = list(range(1982, 2020))\n",
    "for i in range(len(years)):\n",
    "    years[i] = str(years[i])\n",
    "#print(years)\n",
    "yearly_list = []\n",
    "\n",
    "for year in years:\n",
    "    temp_array_list = []\n",
    "    for i in range(476):\n",
    "        if(nc_date_key[i][0:4] == year):\n",
    "            temp_array_list.append(fwi_array[:,:,i])\n",
    "    #print(len(temp_array_list))\n",
    "    avg_array = np.empty((267,576))\n",
    "    avg_array[:] = np.nan\n",
    "    for j in range(267):\n",
    "        for k in range(576):\n",
    "            point_list = []\n",
    "            for q in range(len(temp_array_list)):\n",
    "                point_list.append(temp_array_list[q][j,k])\n",
    "            avg_array[j,k] = np.nanmean(np.array(point_list))\n",
    "    yearly_list.append(avg_array)\n",
    "    print(str(100*(int(year) - int(years[0]))/ (int(years[-1])-int(years[0]))) + '%')"
   ]
  },
  {
   "cell_type": "code",
   "execution_count": 6,
   "metadata": {},
   "outputs": [],
   "source": [
    "year_from_start = np.array(list(range(34)))\n",
    "yearly_array = np.dstack(yearly_list)\n",
    "years_int = np.empty([38])\n",
    "for i in range(len(years)):\n",
    "    years_int[i] = int(years[i])\n",
    "normed_year = np.array(years_int)-np.nanmean(np.array(years_int))"
   ]
  },
  {
   "cell_type": "code",
   "execution_count": 7,
   "metadata": {
    "scrolled": true
   },
   "outputs": [
    {
     "name": "stderr",
     "output_type": "stream",
     "text": [
      "<ipython-input-7-a60a50410ec8>:14: RuntimeWarning: Mean of empty slice\n",
      "  if((~np.isnan(np.nanmean(t_fwi_point)))):\n",
      "C:\\Users\\Patrick\\anaconda3\\lib\\site-packages\\scipy\\stats\\_stats_mstats_common.py:130: RuntimeWarning: invalid value encountered in double_scalars\n",
      "  slope = r_num / ssxm\n",
      "C:\\Users\\Patrick\\anaconda3\\lib\\site-packages\\scipy\\stats\\_stats_mstats_common.py:140: RuntimeWarning: invalid value encountered in sqrt\n",
      "  t = r * np.sqrt(df / ((1.0 - r + TINY)*(1.0 + r + TINY)))\n",
      "C:\\Users\\Patrick\\anaconda3\\lib\\site-packages\\scipy\\stats\\_stats_mstats_common.py:142: RuntimeWarning: invalid value encountered in double_scalars\n",
      "  sterrest = np.sqrt((1 - r**2) * ssym / ssxm / df)\n"
     ]
    }
   ],
   "source": [
    "#Generates linear trend and removes the trend from the FWI \n",
    "\n",
    "t_trend_slope = np.empty([267, 576])\n",
    "t_trend_intercept = np.empty([267, 576])\n",
    "t_trend_rvalue = np.empty([267, 576])\n",
    "t_trend_pvalue = np.empty([267, 576])\n",
    "t_trend_stderr = np.empty([267, 576])\n",
    "\n",
    "t_fwi_point = np.empty([476])\n",
    "for i in range(267):\n",
    "    for j in range(576):\n",
    "        t_fwi_point = fwi_array[i,j,:]\n",
    "        #print(np.nanmean(fwi_point))\n",
    "        if((~np.isnan(np.nanmean(t_fwi_point)))):\n",
    "            #print(np.nanmean(fwi_point))\n",
    "            mask = ~np.isnan(t_fwi_point) & ~np.isnan(normed_date)\n",
    "            t_trend_slope[i,j], t_trend_intercept[i,j], t_trend_rvalue[i,j], t_trend_pvalue[i,j], t_trend_stderr[i,j] = stats.linregress(normed_date[mask], t_fwi_point[mask])\n",
    "        else:\n",
    "            t_trend_slope[i,j] = np.float('NaN')\n",
    "            t_trend_pvalue[i,j] = np.float('NaN')\n",
    "            \n",
    "fwi_detrend = np.empty((267, 576, 476))\n",
    "for i in range(476):\n",
    "    fwi_detrend[:,:,i] = fwi_array[:,:,i] - normed_date[i]*t_trend_slope[:,:]        "
   ]
  },
  {
   "cell_type": "code",
   "execution_count": 8,
   "metadata": {},
   "outputs": [
    {
     "name": "stderr",
     "output_type": "stream",
     "text": [
      "<ipython-input-8-611448ccafc6>:14: RuntimeWarning: Mean of empty slice\n",
      "  if((~np.isnan(np.nanmean(ty_fwi_point)))):\n"
     ]
    }
   ],
   "source": [
    "#Generates linear trend and removes the trend from the FWI yearly database\n",
    "\n",
    "ty_trend_slope = np.empty([267, 576])\n",
    "ty_trend_intercept = np.empty([267, 576])\n",
    "ty_trend_rvalue = np.empty([267, 576])\n",
    "ty_trend_pvalue = np.empty([267, 576])\n",
    "ty_trend_stderr = np.empty([267, 576])\n",
    "\n",
    "ty_fwi_point = np.empty([38])\n",
    "for i in range(267):\n",
    "    for j in range(576):\n",
    "        ty_fwi_point = yearly_array[i,j,:]\n",
    "        #print(np.nanmean(fwi_point))\n",
    "        if((~np.isnan(np.nanmean(ty_fwi_point)))):\n",
    "            #print(np.nanmean(fwi_point))\n",
    "            mask = ~np.isnan(ty_fwi_point) & ~np.isnan(normed_year)\n",
    "            ty_trend_slope[i,j], ty_trend_intercept[i,j], ty_trend_rvalue[i,j], ty_trend_pvalue[i,j], ty_trend_stderr[i,j] = stats.linregress(normed_year[mask], ty_fwi_point[mask])\n",
    "        else:\n",
    "            ty_trend_slope[i,j] = np.float('NaN')\n",
    "            ty_trend_pvalue[i,j] = np.float('NaN')\n",
    "            \n",
    "fwi_y_detrend = np.empty((267, 576, 38))\n",
    "for i in range(38):\n",
    "    fwi_y_detrend[:,:,i] = yearly_array[:,:,i] - normed_year[i]*ty_trend_slope[:,:]        "
   ]
  },
  {
   "cell_type": "code",
   "execution_count": 53,
   "metadata": {},
   "outputs": [],
   "source": [
    "#Removes the seasonal cycle by differencing\n",
    "\n",
    "def difference(dataset, interval=1):\n",
    "    diff = []\n",
    "    for i in range(interval, len(dataset)):\n",
    "        value = dataset[i] - dataset[i - interval]\n",
    "        diff.append(value)\n",
    "    return np.array(diff)\n",
    "fwi_re_season = np.empty([267, 576, 464]) \n",
    "for i in range(267):\n",
    "    for j in range(576):\n",
    "        fwi_re_season[i,j,:] = difference(fwi_detrend[i,j],12)"
   ]
  },
  {
   "cell_type": "code",
   "execution_count": 9,
   "metadata": {},
   "outputs": [
    {
     "name": "stderr",
     "output_type": "stream",
     "text": [
      "<ipython-input-9-f4792fb21bc9>:7: RuntimeWarning: Mean of empty slice\n",
      "  temp_array[i,j] =np.nanmean(np.array([dataset[i,j,index], dataset[i,j,index+1], dataset[i,j,index+2]]))\n"
     ]
    },
    {
     "name": "stdout",
     "output_type": "stream",
     "text": [
      "0.0%\n",
      "0.21551724137931033%\n",
      "0.43103448275862066%\n",
      "0.646551724137931%\n",
      "0.8620689655172413%\n",
      "1.0775862068965518%\n",
      "1.293103448275862%\n",
      "1.5086206896551724%\n",
      "1.7241379310344827%\n",
      "1.9396551724137931%\n",
      "2.1551724137931036%\n",
      "2.3706896551724137%\n",
      "2.586206896551724%\n",
      "2.8017241379310347%\n",
      "3.0172413793103448%\n",
      "3.2327586206896552%\n",
      "3.4482758620689653%\n",
      "3.6637931034482754%\n",
      "3.8793103448275863%\n",
      "4.094827586206897%\n",
      "4.310344827586207%\n",
      "4.525862068965517%\n",
      "4.741379310344827%\n",
      "4.956896551724138%\n",
      "5.172413793103448%\n",
      "5.387931034482758%\n",
      "5.603448275862069%\n",
      "5.818965517241379%\n",
      "6.0344827586206895%\n",
      "6.25%\n",
      "6.4655172413793105%\n",
      "6.68103448275862%\n",
      "6.896551724137931%\n",
      "7.112068965517242%\n",
      "7.327586206896551%\n",
      "7.543103448275862%\n",
      "7.758620689655173%\n",
      "7.974137931034483%\n",
      "8.189655172413794%\n",
      "8.405172413793103%\n",
      "8.620689655172415%\n",
      "8.836206896551724%\n",
      "9.051724137931034%\n",
      "9.267241379310345%\n",
      "9.482758620689655%\n",
      "9.698275862068966%\n",
      "9.913793103448276%\n",
      "10.129310344827585%\n",
      "10.344827586206897%\n",
      "10.560344827586206%\n",
      "10.775862068965516%\n",
      "10.991379310344827%\n",
      "11.206896551724139%\n",
      "11.422413793103448%\n",
      "11.637931034482758%\n",
      "11.85344827586207%\n",
      "12.068965517241379%\n",
      "12.284482758620689%\n",
      "12.5%\n",
      "12.71551724137931%\n",
      "12.931034482758621%\n",
      "13.14655172413793%\n",
      "13.36206896551724%\n",
      "13.577586206896552%\n",
      "13.793103448275861%\n",
      "14.00862068965517%\n",
      "14.224137931034484%\n",
      "14.439655172413794%\n",
      "14.655172413793101%\n",
      "14.870689655172415%\n",
      "15.086206896551724%\n",
      "15.301724137931034%\n",
      "15.517241379310345%\n",
      "15.732758620689655%\n",
      "15.948275862068966%\n",
      "16.163793103448278%\n",
      "16.379310344827587%\n",
      "16.594827586206897%\n",
      "16.810344827586206%\n",
      "17.025862068965516%\n",
      "17.24137931034483%\n",
      "17.45689655172414%\n",
      "17.67241379310345%\n",
      "17.887931034482758%\n",
      "18.103448275862068%\n",
      "18.318965517241377%\n",
      "18.53448275862069%\n",
      "18.75%\n",
      "18.96551724137931%\n",
      "19.181034482758623%\n",
      "19.396551724137932%\n",
      "19.612068965517242%\n",
      "19.82758620689655%\n",
      "20.04310344827586%\n",
      "20.25862068965517%\n",
      "20.474137931034484%\n",
      "20.689655172413794%\n",
      "20.905172413793103%\n",
      "21.120689655172413%\n",
      "21.336206896551722%\n",
      "21.551724137931032%\n",
      "21.767241379310345%\n",
      "21.982758620689655%\n",
      "22.198275862068968%\n",
      "22.413793103448278%\n",
      "22.629310344827587%\n",
      "22.844827586206897%\n",
      "23.060344827586206%\n",
      "23.275862068965516%\n",
      "23.49137931034483%\n",
      "23.70689655172414%\n",
      "23.92241379310345%\n",
      "24.137931034482758%\n",
      "24.353448275862068%\n",
      "24.568965517241377%\n",
      "24.78448275862069%\n",
      "25.0%\n",
      "25.21551724137931%\n",
      "25.43103448275862%\n",
      "25.646551724137932%\n",
      "25.862068965517242%\n",
      "26.07758620689655%\n",
      "26.29310344827586%\n",
      "26.50862068965517%\n",
      "26.72413793103448%\n",
      "26.939655172413797%\n",
      "27.155172413793103%\n",
      "27.370689655172413%\n",
      "27.586206896551722%\n",
      "27.801724137931032%\n",
      "28.01724137931034%\n",
      "28.23275862068966%\n",
      "28.448275862068968%\n",
      "28.663793103448278%\n",
      "28.879310344827587%\n",
      "29.094827586206897%\n",
      "29.310344827586203%\n",
      "29.52586206896552%\n",
      "29.74137931034483%\n",
      "29.95689655172414%\n",
      "30.17241379310345%\n",
      "30.387931034482758%\n",
      "30.603448275862068%\n",
      "30.81896551724138%\n",
      "31.03448275862069%\n",
      "31.25%\n",
      "31.46551724137931%\n",
      "31.68103448275862%\n",
      "31.896551724137932%\n",
      "32.112068965517246%\n",
      "32.327586206896555%\n",
      "32.543103448275865%\n",
      "32.758620689655174%\n",
      "32.974137931034484%\n",
      "33.189655172413794%\n",
      "33.4051724137931%\n",
      "33.62068965517241%\n",
      "33.83620689655172%\n",
      "34.05172413793103%\n",
      "34.26724137931034%\n",
      "34.48275862068966%\n",
      "34.69827586206897%\n",
      "34.91379310344828%\n",
      "35.12931034482759%\n",
      "35.3448275862069%\n",
      "35.560344827586206%\n",
      "35.775862068965516%\n",
      "35.991379310344826%\n",
      "36.206896551724135%\n",
      "36.422413793103445%\n",
      "36.637931034482754%\n",
      "36.853448275862064%\n",
      "37.06896551724138%\n",
      "37.28448275862069%\n",
      "37.5%\n",
      "37.71551724137931%\n",
      "37.93103448275862%\n",
      "38.146551724137936%\n",
      "38.362068965517246%\n",
      "38.577586206896555%\n",
      "38.793103448275865%\n",
      "39.008620689655174%\n",
      "39.224137931034484%\n",
      "39.439655172413794%\n",
      "39.6551724137931%\n",
      "39.87068965517241%\n",
      "40.08620689655172%\n",
      "40.30172413793103%\n",
      "40.51724137931034%\n",
      "40.73275862068966%\n",
      "40.94827586206897%\n",
      "41.16379310344828%\n",
      "41.37931034482759%\n",
      "41.5948275862069%\n",
      "41.810344827586206%\n",
      "42.025862068965516%\n",
      "42.241379310344826%\n",
      "42.456896551724135%\n",
      "42.672413793103445%\n",
      "42.887931034482754%\n",
      "43.103448275862064%\n",
      "43.31896551724138%\n",
      "43.53448275862069%\n",
      "43.75%\n",
      "43.96551724137931%\n",
      "44.18103448275862%\n",
      "44.396551724137936%\n",
      "44.612068965517246%\n",
      "44.827586206896555%\n",
      "45.043103448275865%\n",
      "45.258620689655174%\n",
      "45.474137931034484%\n",
      "45.689655172413794%\n",
      "45.9051724137931%\n",
      "46.12068965517241%\n",
      "46.33620689655172%\n",
      "46.55172413793103%\n",
      "46.76724137931034%\n",
      "46.98275862068966%\n",
      "47.19827586206897%\n",
      "47.41379310344828%\n",
      "47.62931034482759%\n",
      "47.8448275862069%\n",
      "48.060344827586206%\n",
      "48.275862068965516%\n",
      "48.491379310344826%\n",
      "48.706896551724135%\n",
      "48.922413793103445%\n",
      "49.137931034482754%\n",
      "49.353448275862064%\n",
      "49.56896551724138%\n",
      "49.78448275862069%\n",
      "50.0%\n",
      "50.21551724137932%\n",
      "50.43103448275862%\n",
      "50.646551724137936%\n",
      "50.86206896551724%\n",
      "51.077586206896555%\n",
      "51.293103448275865%\n",
      "51.508620689655174%\n",
      "51.724137931034484%\n",
      "51.939655172413794%\n",
      "52.1551724137931%\n",
      "52.370689655172406%\n",
      "52.58620689655172%\n",
      "52.80172413793104%\n",
      "53.01724137931034%\n",
      "53.23275862068966%\n",
      "53.44827586206896%\n",
      "53.66379310344828%\n",
      "53.879310344827594%\n",
      "54.0948275862069%\n",
      "54.310344827586206%\n",
      "54.525862068965516%\n",
      "54.741379310344826%\n",
      "54.956896551724135%\n",
      "55.172413793103445%\n",
      "55.38793103448276%\n",
      "55.603448275862064%\n",
      "55.81896551724138%\n",
      "56.03448275862068%\n",
      "56.25%\n",
      "56.46551724137932%\n",
      "56.68103448275862%\n",
      "56.896551724137936%\n",
      "57.11206896551724%\n",
      "57.327586206896555%\n",
      "57.543103448275865%\n",
      "57.758620689655174%\n",
      "57.974137931034484%\n",
      "58.189655172413794%\n",
      "58.4051724137931%\n",
      "58.620689655172406%\n",
      "58.83620689655172%\n",
      "59.05172413793104%\n",
      "59.26724137931034%\n",
      "59.48275862068966%\n",
      "59.69827586206896%\n",
      "59.91379310344828%\n",
      "60.129310344827594%\n",
      "60.3448275862069%\n",
      "60.560344827586206%\n",
      "60.775862068965516%\n",
      "60.991379310344826%\n",
      "61.206896551724135%\n",
      "61.422413793103445%\n",
      "61.63793103448276%\n",
      "61.853448275862064%\n",
      "62.06896551724138%\n",
      "62.28448275862068%\n",
      "62.5%\n",
      "62.71551724137932%\n",
      "62.93103448275862%\n",
      "63.146551724137936%\n",
      "63.36206896551724%\n",
      "63.577586206896555%\n",
      "63.793103448275865%\n",
      "64.00862068965517%\n",
      "64.22413793103449%\n",
      "64.4396551724138%\n",
      "64.65517241379311%\n",
      "64.87068965517241%\n",
      "65.08620689655173%\n",
      "65.30172413793103%\n",
      "65.51724137931035%\n",
      "65.73275862068965%\n",
      "65.94827586206897%\n",
      "66.16379310344827%\n",
      "66.37931034482759%\n",
      "66.59482758620689%\n",
      "66.8103448275862%\n",
      "67.02586206896551%\n",
      "67.24137931034483%\n",
      "67.45689655172413%\n",
      "67.67241379310344%\n",
      "67.88793103448276%\n",
      "68.10344827586206%\n",
      "68.31896551724138%\n",
      "68.53448275862068%\n",
      "68.75%\n",
      "68.96551724137932%\n",
      "69.18103448275862%\n",
      "69.39655172413794%\n",
      "69.61206896551724%\n",
      "69.82758620689656%\n",
      "70.04310344827587%\n",
      "70.25862068965517%\n",
      "70.47413793103449%\n",
      "70.6896551724138%\n",
      "70.90517241379311%\n",
      "71.12068965517241%\n",
      "71.33620689655173%\n",
      "71.55172413793103%\n",
      "71.76724137931035%\n",
      "71.98275862068965%\n",
      "72.19827586206897%\n",
      "72.41379310344827%\n",
      "72.62931034482759%\n",
      "72.84482758620689%\n",
      "73.0603448275862%\n",
      "73.27586206896551%\n",
      "73.49137931034483%\n",
      "73.70689655172413%\n",
      "73.92241379310344%\n",
      "74.13793103448276%\n",
      "74.35344827586206%\n",
      "74.56896551724138%\n",
      "74.78448275862068%\n",
      "75.0%\n",
      "75.21551724137932%\n",
      "75.43103448275862%\n",
      "75.64655172413794%\n",
      "75.86206896551724%\n",
      "76.07758620689656%\n",
      "76.29310344827587%\n",
      "76.50862068965517%\n",
      "76.72413793103449%\n",
      "76.9396551724138%\n",
      "77.15517241379311%\n",
      "77.37068965517241%\n",
      "77.58620689655173%\n",
      "77.80172413793103%\n",
      "78.01724137931035%\n",
      "78.23275862068965%\n",
      "78.44827586206897%\n",
      "78.66379310344827%\n",
      "78.87931034482759%\n",
      "79.09482758620689%\n",
      "79.3103448275862%\n",
      "79.52586206896551%\n",
      "79.74137931034483%\n",
      "79.95689655172413%\n",
      "80.17241379310344%\n",
      "80.38793103448276%\n",
      "80.60344827586206%\n",
      "80.81896551724138%\n",
      "81.03448275862068%\n",
      "81.25%\n",
      "81.46551724137932%\n",
      "81.68103448275862%\n",
      "81.89655172413794%\n",
      "82.11206896551724%\n",
      "82.32758620689656%\n",
      "82.54310344827587%\n",
      "82.75862068965517%\n",
      "82.97413793103449%\n",
      "83.1896551724138%\n",
      "83.40517241379311%\n",
      "83.62068965517241%\n",
      "83.83620689655173%\n",
      "84.05172413793103%\n",
      "84.26724137931035%\n",
      "84.48275862068965%\n",
      "84.69827586206897%\n",
      "84.91379310344827%\n",
      "85.12931034482759%\n",
      "85.34482758620689%\n",
      "85.5603448275862%\n",
      "85.77586206896551%\n",
      "85.99137931034483%\n",
      "86.20689655172413%\n",
      "86.42241379310344%\n",
      "86.63793103448276%\n",
      "86.85344827586206%\n",
      "87.06896551724138%\n",
      "87.28448275862068%\n",
      "87.5%\n",
      "87.71551724137932%\n",
      "87.93103448275862%\n",
      "88.14655172413794%\n",
      "88.36206896551724%\n",
      "88.57758620689656%\n",
      "88.79310344827587%\n",
      "89.00862068965517%\n",
      "89.22413793103449%\n",
      "89.4396551724138%\n",
      "89.65517241379311%\n",
      "89.87068965517241%\n",
      "90.08620689655173%\n",
      "90.30172413793103%\n",
      "90.51724137931035%\n",
      "90.73275862068965%\n",
      "90.94827586206897%\n",
      "91.16379310344827%\n",
      "91.37931034482759%\n",
      "91.59482758620689%\n",
      "91.8103448275862%\n",
      "92.02586206896551%\n",
      "92.24137931034483%\n",
      "92.45689655172413%\n",
      "92.67241379310344%\n",
      "92.88793103448276%\n",
      "93.10344827586206%\n",
      "93.31896551724138%\n",
      "93.53448275862068%\n"
     ]
    },
    {
     "name": "stdout",
     "output_type": "stream",
     "text": [
      "93.75%\n",
      "93.96551724137932%\n",
      "94.18103448275862%\n",
      "94.39655172413794%\n",
      "94.61206896551724%\n",
      "94.82758620689656%\n",
      "95.04310344827587%\n",
      "95.25862068965517%\n",
      "95.47413793103449%\n",
      "95.6896551724138%\n",
      "95.90517241379311%\n",
      "96.12068965517241%\n",
      "96.33620689655173%\n",
      "96.55172413793103%\n",
      "96.76724137931035%\n",
      "96.98275862068965%\n",
      "97.19827586206897%\n",
      "97.41379310344827%\n",
      "97.62931034482759%\n",
      "97.84482758620689%\n",
      "98.0603448275862%\n",
      "98.27586206896551%\n",
      "98.49137931034483%\n",
      "98.70689655172413%\n",
      "98.92241379310344%\n",
      "99.13793103448276%\n",
      "99.35344827586206%\n",
      "99.56896551724138%\n",
      "99.78448275862068%\n",
      "100.0%\n",
      "100.21551724137932%\n",
      "100.43103448275863%\n",
      "100.64655172413792%\n",
      "100.86206896551724%\n",
      "101.07758620689656%\n",
      "101.29310344827587%\n",
      "101.50862068965519%\n",
      "101.72413793103448%\n",
      "101.9396551724138%\n"
     ]
    },
    {
     "ename": "IndexError",
     "evalue": "index 476 is out of bounds for axis 2 with size 476",
     "output_type": "error",
     "traceback": [
      "\u001b[1;31m---------------------------------------------------------------------------\u001b[0m",
      "\u001b[1;31mIndexError\u001b[0m                                Traceback (most recent call last)",
      "\u001b[1;32m<ipython-input-9-f4792fb21bc9>\u001b[0m in \u001b[0;36m<module>\u001b[1;34m\u001b[0m\n\u001b[0;32m      9\u001b[0m \u001b[0mthree_month_list\u001b[0m \u001b[1;33m=\u001b[0m \u001b[1;33m[\u001b[0m\u001b[1;33m]\u001b[0m\u001b[1;33m\u001b[0m\u001b[1;33m\u001b[0m\u001b[0m\n\u001b[0;32m     10\u001b[0m \u001b[1;32mfor\u001b[0m \u001b[0mi\u001b[0m \u001b[1;32min\u001b[0m \u001b[0mrange\u001b[0m\u001b[1;33m(\u001b[0m\u001b[1;36m476\u001b[0m\u001b[1;33m)\u001b[0m\u001b[1;33m:\u001b[0m\u001b[1;33m\u001b[0m\u001b[1;33m\u001b[0m\u001b[0m\n\u001b[1;32m---> 11\u001b[1;33m     \u001b[0mthree_month_list\u001b[0m\u001b[1;33m.\u001b[0m\u001b[0mappend\u001b[0m\u001b[1;33m(\u001b[0m\u001b[0mthree_month_avg\u001b[0m\u001b[1;33m(\u001b[0m\u001b[0mfwi_detrend\u001b[0m\u001b[1;33m,\u001b[0m \u001b[0mi\u001b[0m\u001b[1;33m)\u001b[0m\u001b[1;33m)\u001b[0m\u001b[1;33m\u001b[0m\u001b[1;33m\u001b[0m\u001b[0m\n\u001b[0m\u001b[0;32m     12\u001b[0m     \u001b[0mprint\u001b[0m\u001b[1;33m(\u001b[0m\u001b[0mstr\u001b[0m\u001b[1;33m(\u001b[0m\u001b[1;33m(\u001b[0m\u001b[0mi\u001b[0m\u001b[1;33m/\u001b[0m\u001b[1;36m464\u001b[0m\u001b[1;33m)\u001b[0m\u001b[1;33m*\u001b[0m\u001b[1;36m100\u001b[0m\u001b[1;33m)\u001b[0m\u001b[1;33m+\u001b[0m\u001b[1;34m'%'\u001b[0m\u001b[1;33m)\u001b[0m\u001b[1;33m\u001b[0m\u001b[1;33m\u001b[0m\u001b[0m\n\u001b[0;32m     13\u001b[0m \u001b[1;33m\u001b[0m\u001b[0m\n",
      "\u001b[1;32m<ipython-input-9-f4792fb21bc9>\u001b[0m in \u001b[0;36mthree_month_avg\u001b[1;34m(dataset, index)\u001b[0m\n\u001b[0;32m      5\u001b[0m     \u001b[1;32mfor\u001b[0m \u001b[0mi\u001b[0m \u001b[1;32min\u001b[0m \u001b[0mrange\u001b[0m\u001b[1;33m(\u001b[0m\u001b[1;36m267\u001b[0m\u001b[1;33m)\u001b[0m\u001b[1;33m:\u001b[0m\u001b[1;33m\u001b[0m\u001b[1;33m\u001b[0m\u001b[0m\n\u001b[0;32m      6\u001b[0m         \u001b[1;32mfor\u001b[0m \u001b[0mj\u001b[0m \u001b[1;32min\u001b[0m \u001b[0mrange\u001b[0m\u001b[1;33m(\u001b[0m\u001b[1;36m576\u001b[0m\u001b[1;33m)\u001b[0m\u001b[1;33m:\u001b[0m\u001b[1;33m\u001b[0m\u001b[1;33m\u001b[0m\u001b[0m\n\u001b[1;32m----> 7\u001b[1;33m             \u001b[0mtemp_array\u001b[0m\u001b[1;33m[\u001b[0m\u001b[0mi\u001b[0m\u001b[1;33m,\u001b[0m\u001b[0mj\u001b[0m\u001b[1;33m]\u001b[0m \u001b[1;33m=\u001b[0m\u001b[0mnp\u001b[0m\u001b[1;33m.\u001b[0m\u001b[0mnanmean\u001b[0m\u001b[1;33m(\u001b[0m\u001b[0mnp\u001b[0m\u001b[1;33m.\u001b[0m\u001b[0marray\u001b[0m\u001b[1;33m(\u001b[0m\u001b[1;33m[\u001b[0m\u001b[0mdataset\u001b[0m\u001b[1;33m[\u001b[0m\u001b[0mi\u001b[0m\u001b[1;33m,\u001b[0m\u001b[0mj\u001b[0m\u001b[1;33m,\u001b[0m\u001b[0mindex\u001b[0m\u001b[1;33m]\u001b[0m\u001b[1;33m,\u001b[0m \u001b[0mdataset\u001b[0m\u001b[1;33m[\u001b[0m\u001b[0mi\u001b[0m\u001b[1;33m,\u001b[0m\u001b[0mj\u001b[0m\u001b[1;33m,\u001b[0m\u001b[0mindex\u001b[0m\u001b[1;33m+\u001b[0m\u001b[1;36m1\u001b[0m\u001b[1;33m]\u001b[0m\u001b[1;33m,\u001b[0m \u001b[0mdataset\u001b[0m\u001b[1;33m[\u001b[0m\u001b[0mi\u001b[0m\u001b[1;33m,\u001b[0m\u001b[0mj\u001b[0m\u001b[1;33m,\u001b[0m\u001b[0mindex\u001b[0m\u001b[1;33m+\u001b[0m\u001b[1;36m2\u001b[0m\u001b[1;33m]\u001b[0m\u001b[1;33m]\u001b[0m\u001b[1;33m)\u001b[0m\u001b[1;33m)\u001b[0m\u001b[1;33m\u001b[0m\u001b[1;33m\u001b[0m\u001b[0m\n\u001b[0m\u001b[0;32m      8\u001b[0m     \u001b[1;32mreturn\u001b[0m\u001b[1;33m(\u001b[0m\u001b[0mtemp_array\u001b[0m\u001b[1;33m)\u001b[0m\u001b[1;33m\u001b[0m\u001b[1;33m\u001b[0m\u001b[0m\n\u001b[0;32m      9\u001b[0m \u001b[0mthree_month_list\u001b[0m \u001b[1;33m=\u001b[0m \u001b[1;33m[\u001b[0m\u001b[1;33m]\u001b[0m\u001b[1;33m\u001b[0m\u001b[1;33m\u001b[0m\u001b[0m\n",
      "\u001b[1;31mIndexError\u001b[0m: index 476 is out of bounds for axis 2 with size 476"
     ]
    }
   ],
   "source": [
    "#compiles the monthly data into three month averages to match the ONI data\n",
    "\n",
    "def three_month_avg(dataset, index):\n",
    "    temp_array = np.empty([267,576])\n",
    "    for i in range(267):\n",
    "        for j in range(576):\n",
    "            temp_array[i,j] =np.nanmean(np.array([dataset[i,j,index], dataset[i,j,index+1], dataset[i,j,index+2]]))\n",
    "    return(temp_array)\n",
    "three_month_list = []\n",
    "for i in range(476):\n",
    "    three_month_list.append(three_month_avg(fwi_detrend, i))\n",
    "    print(str((i/464)*100)+'%')\n",
    "    \n",
    "    "
   ]
  },
  {
   "cell_type": "code",
   "execution_count": 10,
   "metadata": {},
   "outputs": [
    {
     "name": "stdout",
     "output_type": "stream",
     "text": [
      "(267, 576, 474)\n"
     ]
    }
   ],
   "source": [
    "three_month_avg = np.dstack(three_month_list)\n",
    "print(np.shape(three_month_avg))"
   ]
  },
  {
   "cell_type": "code",
   "execution_count": 287,
   "metadata": {
    "scrolled": true
   },
   "outputs": [
    {
     "name": "stdout",
     "output_type": "stream",
     "text": [
      "38\n"
     ]
    }
   ],
   "source": [
    "#Load ONI data\n",
    "\n",
    "oni_raw = np.genfromtxt('oni.csv', delimiter=',')\n",
    "#print(np.shape(oni_raw))\n",
    "oni_list = []\n",
    "for i in range(39):\n",
    "    for j in range(12):\n",
    "        oni_list.append(oni_raw[i,j])\n",
    "ONI = np.array(oni_list[:464])\n",
    "#print(len(ONI))\n",
    "\n",
    "yONI = np.genfromtxt('oni_yearly.csv', delimiter=',')\n",
    "#print(np.shape(oni_raw))\n",
    "\n",
    "print(len(yONI))"
   ]
  },
  {
   "cell_type": "code",
   "execution_count": 301,
   "metadata": {
    "scrolled": false
   },
   "outputs": [
    {
     "name": "stderr",
     "output_type": "stream",
     "text": [
      "<ipython-input-301-ce5ba23a2f79>:10: RuntimeWarning: Mean of empty slice\n",
      "  if((~np.isnan(np.nanmean(oni_fwi_point)))):\n"
     ]
    }
   ],
   "source": [
    "#Correlate the three month average data with the ONI data\n",
    "\n",
    "m_coeff = np.empty([267, 576])\n",
    "\n",
    "oni_fwi_point = np.empty([462])\n",
    "for i in range(267):\n",
    "    for j in range(576):\n",
    "        oni_fwi_point = three_month_avg[i,j,:]\n",
    "        #print(np.nanmean(fwi_point))\n",
    "        if((~np.isnan(np.nanmean(oni_fwi_point)))):\n",
    "            #print(np.nanmean(fwi_point))\n",
    "            mask = ~np.isnan(oni_fwi_point[:]) & ~np.isnan(ONI[1:-1])\n",
    "            m_coeff[i,j] = (np.corrcoef(ONI[1:-1][mask], oni_fwi_point[:][mask]))[0,1]\n",
    "        else:\n",
    "            m_coeff[i,j] = np.float('NaN')"
   ]
  },
  {
   "cell_type": "code",
   "execution_count": 309,
   "metadata": {},
   "outputs": [
    {
     "name": "stderr",
     "output_type": "stream",
     "text": [
      "<ipython-input-309-f7febcfc0bfe>:8: RuntimeWarning: Mean of empty slice\n",
      "  if((~np.isnan(np.nanmean(oni_fwi_point2)))):\n"
     ]
    }
   ],
   "source": [
    "t_coeff = np.empty([267, 576])\n",
    "\n",
    "oni_fwi_point2 = np.empty([38])\n",
    "for i in range(267):\n",
    "    for j in range(576):\n",
    "        oni_fwi_point2 = fwi_y_detrend[i,j,:]\n",
    "        #print(np.nanmean(fwi_point))\n",
    "        if((~np.isnan(np.nanmean(oni_fwi_point2)))):\n",
    "            #print(np.nanmean(fwi_point))\n",
    "            mask = ~np.isnan(oni_fwi_point2) & ~np.isnan(yONI)\n",
    "            t_coeff[i,j] = (np.corrcoef(yONI[mask], oni_fwi_point2[mask]))[0,1]\n",
    "        else:\n",
    "            t_coeff[i,j] = np.float('NaN')"
   ]
  },
  {
   "cell_type": "code",
   "execution_count": 310,
   "metadata": {
    "scrolled": true
   },
   "outputs": [
    {
     "data": {
      "image/png": "[encoded data removed]",
      "text/plain": [
       "<Figure size 432x288 with 2 Axes>"
      ]
     },
     "metadata": {
      "needs_background": "light"
     },
     "output_type": "display_data"
    },
    {
     "data": {
      "image/png": "[encoded data removed]",
      "text/plain": [
       "<Figure size 432x288 with 2 Axes>"
      ]
     },
     "metadata": {
      "needs_background": "light"
     },
     "output_type": "display_data"
    },
    {
     "data": {
      "image/png": "[encoded data removed]",
      "text/plain": [
       "<Figure size 288x432 with 2 Axes>"
      ]
     },
     "metadata": {
      "needs_background": "light"
     },
     "output_type": "display_data"
    },
    {
     "data": {
      "image/png": "[encoded data removed]",
      "text/plain": [
       "<Figure size 288x432 with 2 Axes>"
      ]
     },
     "metadata": {
      "needs_background": "light"
     },
     "output_type": "display_data"
    },
    {
     "data": {
      "image/png": "[encoded data removed]",
      "text/plain": [
       "<Figure size 288x432 with 2 Axes>"
      ]
     },
     "metadata": {
      "needs_background": "light"
     },
     "output_type": "display_data"
    },
    {
     "data": {
      "image/png": "[encoded data removed]",
      "text/plain": [
       "<Figure size 288x432 with 2 Axes>"
      ]
     },
     "metadata": {
      "needs_background": "light"
     },
     "output_type": "display_data"
    }
   ],
   "source": [
    "plt.figure(1)\n",
    "colors1 = ['blue', 'lavender','mistyrose', 'red']\n",
    "nodes1 = [0.0, 0.4, 0.6, 1.0]\n",
    "cmap1 = LinearSegmentedColormap.from_list('mycmap', list(zip(nodes1,colors1)))\n",
    "plt.pcolormesh(t_trend_slope*365.25,cmap = cmap1, vmin=-0.4, vmax=0.4)\n",
    "plt.colorbar(label = 'Annual FWI Change')\n",
    "plt.title('Slope of FWI Linear Trend')\n",
    "plt.tick_params(axis='both', which='both', bottom=False, top=False, labelbottom=False, right=False, left=False, labelleft=False)\n",
    "plt.savefig('global_FWI_linear_trend_slope.png')\n",
    "\n",
    "plt.figure(2)\n",
    "colors2 = ['forestgreen', 'honeydew','mistyrose', 'mistyrose']\n",
    "nodes2 = [0.0,11/12, 11/12, 1.0]\n",
    "cmap2 = LinearSegmentedColormap.from_list('mycmap', list(zip(nodes2,colors2)))\n",
    "plt.pcolormesh(t_trend_pvalue, cmap = cmap2, vmin=0, vmax=0.055)\n",
    "plt.colorbar(label = 'P-Value')\n",
    "plt.title('P-Value of FWI Linear Trend')\n",
    "plt.tick_params(axis='both', which='both', bottom=False, top=False, labelbottom=False, right=False, left=False, labelleft=False)\n",
    "plt.savefig('global_FWI_linear_trend_pval')\n",
    "\n",
    "plt.figure(3, figsize = ([4,6]))\n",
    "colors3 = ['blue','cyan', 'lime','honeydew','yellow','red','magenta']\n",
    "nodes3 = [0,.25,.375,.5,.65,.875,1]\n",
    "cmap3 = LinearSegmentedColormap.from_list('mycmap', list(zip(nodes3,colors3)))\n",
    "plt.pcolormesh(m_coeff[0:140,150:240], vmin=-1, vmax=1, cmap = cmap3)\n",
    "plt.colorbar(label = 'Pearson Correlation Coefficient')\n",
    "plt.title('Correlation Between Three Month Running Averages of \\nFWI and ONI')\n",
    "plt.tick_params(axis='both', which='both', bottom=False, top=False, labelbottom=False, right=False, left=False, labelleft=False)\n",
    "plt.savefig('three_month_correlation.png')\n",
    "\n",
    "plt.figure(4, figsize = ([4,6]))\n",
    "plt.pcolormesh(t_coeff[0:140,150:240], vmin=-1, vmax=1, cmap = cmap3)\n",
    "plt.colorbar(label = 'Pearson Correlation Coefficient')\n",
    "plt.title('Correlation Between Yearly Average FWI and ONI')\n",
    "plt.tick_params(axis='both', which='both', bottom=False, top=False, labelbottom=False, right=False, left=False, labelleft=False)\n",
    "plt.savefig('yearly_correlation.png')\n",
    "\n",
    "plt.figure(5, figsize = ([4,6]))\n",
    "colors1 = ['blue', 'lavender','mistyrose', 'red']\n",
    "nodes1 = [0.0, 0.4, 0.6, 1.0]\n",
    "cmap1 = LinearSegmentedColormap.from_list('mycmap', list(zip(nodes1,colors1)))\n",
    "plt.pcolormesh(t_trend_slope[0:140,150:240]*365.25,cmap = cmap1, vmin=-0.4, vmax=0.4)\n",
    "plt.colorbar(label = 'Annual FWI Change')\n",
    "plt.title('Slope of FWI Linear Trend')\n",
    "plt.tick_params(axis='both', which='both', bottom=False, top=False, labelbottom=False, right=False, left=False, labelleft=False)\n",
    "plt.savefig('sa_FWI_linear_trend_slope.png')\n",
    "\n",
    "plt.figure(6, figsize = ([4,6]))\n",
    "colors2 = ['forestgreen', 'honeydew','mistyrose', 'mistyrose']\n",
    "nodes2 = [0.0,11/12, 11/12, 1.0]\n",
    "cmap2 = LinearSegmentedColormap.from_list('mycmap', list(zip(nodes2,colors2)))\n",
    "plt.pcolormesh(t_trend_pvalue[0:140,150:240], cmap = cmap2, vmin=0, vmax=0.055)\n",
    "plt.colorbar(label = 'P-Value')\n",
    "plt.title('P-Value of FWI Linear Trend')\n",
    "plt.tick_params(axis='both', which='both', bottom=False, top=False, labelbottom=False, right=False, left=False, labelleft=False)\n",
    "plt.savefig('sa_FWI_linear_trend_pval.png')"
   ]
  },
  {
   "cell_type": "code",
   "execution_count": 22,
   "metadata": {},
   "outputs": [
    {
     "name": "stdout",
     "output_type": "stream",
     "text": [
      "474\n"
     ]
    }
   ],
   "source": [
    "nc_date_key = np.array(nc_date_key)\n",
    "print(len(nc_date_key[:-2]))"
   ]
  },
  {
   "cell_type": "code",
   "execution_count": 24,
   "metadata": {},
   "outputs": [],
   "source": [
    "ncfile = Dataset('aggregate_data_6.nc', mode = 'w', format = 'NETCDF4_CLASSIC')\n",
    "lat_dim = ncfile.createDimension('lat', 267)\n",
    "lon_dim = ncfile.createDimension('lon', 576)\n",
    "month_dim = ncfile.createDimension('month', 474)\n",
    "year_dim = ncfile.createDimension('year', 38)\n",
    "ncfile.title = 'Aggregated FWI Data'\n",
    "ncfile.subtitle = 'Organized into a running three month average timeseries and a yearly average timeseries. Monthly data has linear trend and seasonal cycle removed.'\n",
    "lat = ncfile.createVariable('lat', np.float32, ('lat',))\n",
    "lat.units = 'degrees_north'\n",
    "lat.long_name = 'latitude'\n",
    "lon = ncfile.createVariable('lon',np.float32, ('lon',))\n",
    "lon.units = 'degrees_east'\n",
    "lon.long_name = 'longitude'\n",
    "month = ncfile.createVariable('month', np.int32, ('month',))\n",
    "month.units = 'yyyymm'\n",
    "month.long_name = 'Month and Year of Monthly Data'\n",
    "year = ncfile.createVariable('year', np.int32, ('year',))\n",
    "month.units = 'yyyy'\n",
    "yFWI = ncfile.createVariable('yFWI', np.float32, ('lat', 'lon', 'year'))\n",
    "yFWI.units = 'Unitless'\n",
    "yFWI.long_name = 'Annual average global fire weather index'\n",
    "mFWI = ncfile.createVariable('mFWI', np.float32, ('lat', 'lon', 'month'))\n",
    "mFWI.units = 'Unitless'\n",
    "mFWI.long_name = '3 month running average global fire weather index'\n",
    "yFWI[:,:,:] = yearly_array[:,:,:]\n",
    "mFWI[:,:,:] = three_month_avg[:,:,:]\n",
    "lat[:] = sample['lat'][:]\n",
    "lon[:] = sample['lon'][:]\n",
    "month[:] = nc_date_key[:-2]\n",
    "year[:] = years_int\n",
    "ncfile.close()"
   ]
  },
  {
   "cell_type": "code",
   "execution_count": 26,
   "metadata": {},
   "outputs": [
    {
     "name": "stdout",
     "output_type": "stream",
     "text": [
      "<class 'netCDF4._netCDF4.Dataset'>\n",
      "root group (NETCDF4_CLASSIC data model, file format HDF5):\n",
      "    title: Aggregated FWI Data\n",
      "    subtitle: Organized into a running three month average timeseries and a yearly average timeseries. Monthly data has linear trend and seasonal cycle removed.\n",
      "    dimensions(sizes): lat(267), lon(576), month(474), year(38)\n",
      "    variables(dimensions): float32 lat(lat), float32 lon(lon), int32 month(month), int32 year(year), float32 yFWI(lat,lon,year), float32 mFWI(lat,lon,month)\n",
      "    groups: \n"
     ]
    },
    {
     "name": "stderr",
     "output_type": "stream",
     "text": [
      "<ipython-input-26-6e952b73ed7d>:2: DeprecationWarning: tostring() is deprecated. Use tobytes() instead.\n",
      "  print(test)\n"
     ]
    }
   ],
   "source": [
    "test = Dataset('aggregate_data_2.nc')\n",
    "print(test)"
   ]
  }
 ],
 "metadata": {
  "kernelspec": {
   "display_name": "Python 3",
   "language": "python",
   "name": "python3"
  },
  "language_info": {
   "codemirror_mode": {
    "name": "ipython",
    "version": 3
   },
   "file_extension": ".py",
   "mimetype": "text/x-python",
   "name": "python",
   "nbconvert_exporter": "python",
   "pygments_lexer": "ipython3",
   "version": "3.8.3"
  }
 },
 "nbformat": 4,
 "nbformat_minor": 4
}
