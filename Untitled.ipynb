{
 "cells": [
  {
   "cell_type": "code",
   "execution_count": null,
   "metadata": {},
   "outputs": [],
   "source": []
  },
  {
   "cell_type": "code",
   "execution_count": 3,
   "metadata": {},
   "outputs": [],
   "source": [
    "import netCDF4 as nc\n",
    "import glob\n",
    "import numpy as np\n",
    "import datetime\n",
    "import xarray as xr\n",
    "from matplotlib import pyplot as plt\n",
    "from scipy import stats\n",
    "import math\n",
    "from datetime import date"
   ]
  },
  {
   "cell_type": "code",
   "execution_count": 7,
   "metadata": {},
   "outputs": [],
   "source": [
    "dt_parse = '%Y%m'\n",
    "def get_date_num(stri):\n",
    "    date1 = datetime.datetime.strptime(stri, dt_parse)\n",
    "    return(date.toordinal(date1.date()))\n",
    "list_of_paths = glob.glob('C:/Users/Patrick/Desktop/175_final/global_fwi_analysis/FWI_nc\\'s/*.nc', recursive=True)\n",
    "nc_list = []\n",
    "nc_date_list = []\n",
    "nc_date_key = []\n",
    "for path in list_of_paths:\n",
    "    nc_list.append(nc.Dataset(path))\n",
    "    nc_date_list.append(get_date_num(path[-9:-3]))\n",
    "    nc_date_key.append(path[-9:-3])"
   ]
  },
  {
   "cell_type": "code",
   "execution_count": 5,
   "metadata": {},
   "outputs": [
    {
     "name": "stderr",
     "output_type": "stream",
     "text": [
      "<ipython-input-5-9e0b1f9b52d8>:3: DeprecationWarning: tostring() is deprecated. Use tobytes() instead.\n",
      "  fwi.append(i['MERRA2_FWI'][0])\n",
      "<ipython-input-5-9e0b1f9b52d8>:3: UserWarning: WARNING: missing_value not used since it\n",
      "cannot be safely cast to variable data type\n",
      "  fwi.append(i['MERRA2_FWI'][0])\n"
     ]
    }
   ],
   "source": [
    "fwi = []\n",
    "for i in nc_list:\n",
    "    fwi.append(i['MERRA2_FWI'][0])\n",
    "fwi_array = np.dstack(fwi)"
   ]
  },
  {
   "cell_type": "code",
   "execution_count": 8,
   "metadata": {},
   "outputs": [
    {
     "name": "stdout",
     "output_type": "stream",
     "text": [
      "['1985', '1986', '1987', '1988', '1989', '1990', '1991', '1992', '1993', '1994', '1995', '1996', '1997', '1998', '1999', '2000', '2001', '2002', '2003', '2004', '2005', '2006', '2007', '2008', '2009', '2010', '2011', '2012', '2013', '2014', '2015', '2016', '2017', '2018']\n",
      "12\n"
     ]
    },
    {
     "name": "stderr",
     "output_type": "stream",
     "text": [
      "<ipython-input-8-c968d5b2f51d>:20: RuntimeWarning: Mean of empty slice\n",
      "  avg_array[j,k] = np.nanmean(np.array(point_list))\n"
     ]
    },
    {
     "name": "stdout",
     "output_type": "stream",
     "text": [
      "12\n",
      "12\n",
      "12\n",
      "12\n",
      "12\n",
      "12\n",
      "12\n",
      "12\n",
      "12\n",
      "12\n",
      "12\n",
      "12\n",
      "12\n",
      "12\n",
      "12\n",
      "12\n",
      "12\n",
      "12\n",
      "12\n",
      "12\n",
      "12\n",
      "12\n",
      "12\n",
      "12\n",
      "12\n",
      "12\n",
      "12\n",
      "12\n",
      "12\n",
      "12\n",
      "12\n",
      "12\n",
      "12\n"
     ]
    }
   ],
   "source": [
    "years = list(range(1985, 2019))\n",
    "for i in range(len(years)):\n",
    "    years[i] = str(years[i])\n",
    "print(years)\n",
    "yearly_list = []\n",
    "\n",
    "for year in years:\n",
    "    temp_array_list = []\n",
    "    for i in range(476):\n",
    "        if(nc_date_key[i][0:4] == year):\n",
    "            temp_array_list.append(fwi_array[:,:,i])\n",
    "    print(len(temp_array_list))\n",
    "    avg_array = np.empty((267,576))\n",
    "    avg_array[:] = np.nan\n",
    "    for j in range(267):\n",
    "        for k in range(576):\n",
    "            point_list = []\n",
    "            for q in range(len(temp_array_list)):\n",
    "                point_list.append(temp_array_list[q][j,k])\n",
    "            avg_array[j,k] = np.nanmean(np.array(point_list))\n",
    "    yearly_list.append(avg_array)"
   ]
  },
  {
   "cell_type": "code",
   "execution_count": 10,
   "metadata": {},
   "outputs": [],
   "source": [
    "year_from_start = np.array(list(range(34)))\n",
    "\n",
    "yearly_array = np.dstack(yearly_list)"
   ]
  },
  {
   "cell_type": "code",
   "execution_count": 12,
   "metadata": {},
   "outputs": [
    {
     "name": "stderr",
     "output_type": "stream",
     "text": [
      "<ipython-input-12-29e581d86c63>:12: RuntimeWarning: Mean of empty slice\n",
      "  if((~np.isnan(np.nanmean(t_fwi_point)))):\n"
     ]
    }
   ],
   "source": [
    "t_trend_slope = np.empty([267, 576])\n",
    "t_trend_intercept = np.empty([267, 576])\n",
    "t_trend_rvalue = np.empty([267, 576])\n",
    "t_trend_pvalue = np.empty([267, 576])\n",
    "t_trend_stderr = np.empty([267, 576])\n",
    "\n",
    "t_fwi_point = np.empty([34])\n",
    "for i in range(267):\n",
    "    for j in range(576):\n",
    "        t_fwi_point = yearly_array[i,j,:]\n",
    "        #print(np.nanmean(fwi_point))\n",
    "        if((~np.isnan(np.nanmean(t_fwi_point)))):\n",
    "            #print(np.nanmean(fwi_point))\n",
    "            mask = ~np.isnan(t_fwi_point) & ~np.isnan(year_from_start)\n",
    "            t_trend_slope[i,j], t_trend_intercept[i,j], t_trend_rvalue[i,j], t_trend_pvalue[i,j], t_trend_stderr[i,j] = stats.linregress(year_from_start[mask], t_fwi_point[mask])\n",
    "        else:\n",
    "            t_trend_slope[i,j] = np.float('NaN')\n",
    "            t_trend_pvalue[i,j] = np.float('NaN')\n",
    "yearly_fwi_detrend = np.empty((267, 576, 34))\n",
    "\n",
    "for i in range(34):\n",
    "    yearly_fwi_detrend[:,:,i] = yearly_array[:,:,i] - i*t_trend_slope[:,:]        "
   ]
  },
  {
   "cell_type": "code",
   "execution_count": 13,
   "metadata": {},
   "outputs": [
    {
     "name": "stdout",
     "output_type": "stream",
     "text": [
      "-0.0026292335220779216 0.8167984690873058\n"
     ]
    }
   ],
   "source": [
    "ONI = np.genfromtxt('oni.csv', delimiter=',')[0]\n",
    "\n",
    "o_trend_slope, o_trend_intercept, o_trend_rvalue, o_trend_pvalue, o_trend_stderr = stats.linregress(year_from_start, ONI)\n",
    "print(o_trend_slope, o_trend_pvalue)\n",
    "ONI_detrend = ONI - o_trend_slope*year_from_start\n",
    "#plt.plot(ONI_detrend)"
   ]
  },
  {
   "cell_type": "code",
   "execution_count": 16,
   "metadata": {},
   "outputs": [],
   "source": [
    "forest_cover = np.genfromtxt('deforestation.csv', delimiter = ',')\n",
    "forest_cover_array = forest_cover[0]\n",
    "deforestation = forest_cover_array - np.nanmean(forest_cover_array)\n",
    "\n",
    "d_trend_slope, d_trend_intercept, d_trend_rvalue, d_trend_pvalue, d_trend_stderr = stats.linregress(year_from_start, deforestation)\n",
    "#print(d_trend_slope, d_trend_pvalue)\n",
    "deforestation_detrend = deforestation - d_trend_slope*year_from_start\n",
    "#plt.plot(amazon_detrend)"
   ]
  },
  {
   "cell_type": "code",
   "execution_count": null,
   "metadata": {},
   "outputs": [],
   "source": [
    "coef_ONI = np.empty([267, 576])\n",
    "\n",
    "oni_fwi_point = np.empty([34])\n",
    "for i in range(267):\n",
    "    for j in range(576):\n",
    "        oni_fwi_point = yearly_fwi_detrend[i,j,:]\n",
    "        #print(np.nanmean(fwi_point))\n",
    "        if((~np.isnan(np.nanmean(oni_fwi_point)))):\n",
    "            #print(np.nanmean(fwi_point))\n",
    "            mask = ~np.isnan(oni_fwi_point) & ~np.isnan(ONI_detrend)\n",
    "            coef_ONI[i,j] = (np.corrcoef(ONI_detrend[mask], oni_fwi_point[mask]))[0,1]\n",
    "        else:\n",
    "            coef_ONI[i,j] = np.float('NaN')\n",
    "\n",
    "coef_deforestation = np.empty([267, 576])\n",
    "\n",
    "df_fwi_point = np.empty([34])\n",
    "for i in range(267):\n",
    "    for j in range(576):\n",
    "        df_fwi_point = yearly_fwi_detrend[i,j,:]\n",
    "        #print(np.nanmean(fwi_point))\n",
    "        if((~np.isnan(np.nanmean(df_fwi_point)))):\n",
    "            #print(np.nanmean(fwi_point))\n",
    "            mask = ~np.isnan(df_fwi_point) & ~np.isnan(deforestation_detrend)\n",
    "            coef_deforestation[i,j] = (np.corrcoef(deforestation_detrend[mask], df_fwi_point[mask]))[0,1]\n",
    "        else:\n",
    "            coef_deforestation[i,j] = np.float('NaN')"
   ]
  },
  {
   "cell_type": "code",
   "execution_count": null,
   "metadata": {},
   "outputs": [],
   "source": [
    "plt.figure(1)\n",
    "plt.pcolormesh(t_trend_slope, vmin=-0.4, vmax=0.4)\n",
    "plt.colorbar()\n",
    "plt.figure(2)\n",
    "plt.pcolormesh(t_trend_pvalue, vmin=0, vmax=0.05)\n",
    "plt.colorbar()\n",
    "plt.figure(3)\n",
    "plt.pcolormesh(coef_ONI, vmin=-1, vmax=1)\n",
    "plt.colorbar()\n",
    "plt.figure(4)\n",
    "plt.pcolormesh(coef_deforestation, vmin=-1, vmax=1)\n",
    "plt.colorbar()"
   ]
  },
  {
   "cell_type": "code",
   "execution_count": null,
   "metadata": {},
   "outputs": [],
   "source": []
  }
 ],
 "metadata": {
  "kernelspec": {
   "display_name": "Python 3",
   "language": "python",
   "name": "python3"
  },
  "language_info": {
   "codemirror_mode": {
    "name": "ipython",
    "version": 3
   },
   "file_extension": ".py",
   "mimetype": "text/x-python",
   "name": "python",
   "nbconvert_exporter": "python",
   "pygments_lexer": "ipython3",
   "version": "3.8.3"
  }
 },
 "nbformat": 4,
 "nbformat_minor": 4
}
